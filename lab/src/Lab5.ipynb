{
 "cells": [
  {
   "cell_type": "markdown",
   "metadata": {},
   "source": [
    "# 高斯(Gauss)列主元消去法"
   ]
  },
  {
   "cell_type": "code",
   "execution_count": 1,
   "metadata": {},
   "outputs": [],
   "source": [
    "import numpy as np\n",
    "from numpy import ndarray\n",
    "from IPython.display import Latex, display\n",
    "from typing import Optional\n"
   ]
  },
  {
   "cell_type": "code",
   "execution_count": 2,
   "metadata": {},
   "outputs": [],
   "source": [
    "def Gauss_method(\n",
    "    A: ndarray,\n",
    "    b: ndarray\n",
    ") -> list[Optional[tuple[ndarray, ndarray]]]:\n",
    "    n, o1 = A.shape\n",
    "    o2, o3 = b.shape\n",
    "    if(n != o1 or n != o2 or o3 != 1):\n",
    "        raise ValueError  # 维度不符合要求，抛出异常\n",
    "    m = np.hstack([A, b])\n",
    "    for k in range(n-1):  # k is col\n",
    "        p = m[k:, k].argmax()+k\n",
    "        if m[p, k] == 0:\n",
    "            return None\n",
    "        if p != k:  # swap row p and k\n",
    "            m[[p, k], :] = m[[k, p], :]\n",
    "        for i in range(k+1, n):\n",
    "            # row i -=([i,k]/[k,k])*row k\n",
    "            t = m[i, k]/m[k, k]\n",
    "            m[i, :] -= t*m[k, :]\n",
    "    if m[n-1, n-1] == 0:\n",
    "        return None\n",
    "    x = np.zeros(n, dtype=float)\n",
    "    x[n-1] = m[n-1, n]/m[n-1, n-1]  # b=m[:,n]\n",
    "    for k in reversed(range(n-1)):\n",
    "        temp = m[k, n]\n",
    "        for j in range(k+1, n):\n",
    "            temp -= m[k, j]*x[j]\n",
    "        x[k] = temp/m[k, k]\n",
    "    return (x.reshape([n, 1]), m)"
   ]
  },
  {
   "cell_type": "code",
   "execution_count": 3,
   "metadata": {},
   "outputs": [],
   "source": [
    "def trans_to_latex(a: ndarray) -> str:\n",
    "    if(len(a.shape)) != 2:\n",
    "        raise ValueError\n",
    "    # print('\\\\begin{bmatrix}')\n",
    "    s = '\\\\begin{bmatrix}\\n'\n",
    "    for row in a:\n",
    "        for i in range(len(row)):\n",
    "            s += f'{row[i]:.8f} '\n",
    "            s += '\\\\\\\\\\n' if i == len(row)-1 else '& '\n",
    "    s += '\\\\end{bmatrix}\\n'\n",
    "    return s\n"
   ]
  },
  {
   "cell_type": "code",
   "execution_count": 4,
   "metadata": {},
   "outputs": [],
   "source": [
    "# 封装问题求解\n",
    "def solve_qusetion(\n",
    "    A: ndarray,\n",
    "    b: ndarray\n",
    ") -> list[Optional[tuple[ndarray, ndarray]]]:\n",
    "    temp = Gauss_method(A, b)\n",
    "    if(temp != None):\n",
    "        x, G = temp\n",
    "        s = '$$\\nx='+trans_to_latex(x)+'$$'\n",
    "        display(Latex(s))\n",
    "        return(x, G)\n",
    "    else:\n",
    "        print('矩阵奇异 !')\n",
    "        return(None)\n"
   ]
  },
  {
   "cell_type": "markdown",
   "metadata": {},
   "source": [
    "## 问题求解\n",
    "### 问题 1"
   ]
  },
  {
   "cell_type": "code",
   "execution_count": 5,
   "metadata": {},
   "outputs": [],
   "source": [
    "res = list()\n"
   ]
  },
  {
   "cell_type": "markdown",
   "metadata": {},
   "source": [
    "#### (1)"
   ]
  },
  {
   "cell_type": "code",
   "execution_count": 6,
   "metadata": {},
   "outputs": [
    {
     "data": {
      "text/latex": [
       "$$\n",
       "x=\\begin{bmatrix}\n",
       "1.00000000 \\\\\n",
       "1.00000000 \\\\\n",
       "1.00000000 \\\\\n",
       "1.00000000 \\\\\n",
       "\\end{bmatrix}\n",
       "$$"
      ],
      "text/plain": [
       "<IPython.core.display.Latex object>"
      ]
     },
     "metadata": {},
     "output_type": "display_data"
    }
   ],
   "source": [
    "A = np.array([[0.4096, 0.1234, 0.3678, 0.2943],\n",
    "              [0.2246, 0.3872, 0.4015, 0.1129],\n",
    "              [0.3645, 0.1920, 0.3781, 0.0643],\n",
    "              [0.1784, 0.4002, 0.2786, 0.3927]], dtype=float)\n",
    "b = np.array([1.1951, 1.1262, 0.9989, 1.2499], dtype=float).reshape(4, 1)\n",
    "res.append(solve_qusetion(A, b))\n",
    "# print(r'\\boldsymbol{A}='+trans_to_latex(A))\n",
    "# print(r'\\boldsymbol{b}='+trans_to_latex(b))\n",
    "# print(r'\\boldsymbol{x}='+trans_to_latex(res[-1][0]))"
   ]
  },
  {
   "cell_type": "markdown",
   "metadata": {},
   "source": [
    "#### (2)"
   ]
  },
  {
   "cell_type": "code",
   "execution_count": 7,
   "metadata": {},
   "outputs": [
    {
     "data": {
      "text/latex": [
       "$$\n",
       "x=\\begin{bmatrix}\n",
       "1.00000000 \\\\\n",
       "1.00000000 \\\\\n",
       "1.00000000 \\\\\n",
       "1.00000000 \\\\\n",
       "\\end{bmatrix}\n",
       "$$"
      ],
      "text/plain": [
       "<IPython.core.display.Latex object>"
      ]
     },
     "metadata": {},
     "output_type": "display_data"
    }
   ],
   "source": [
    "A = np.array([[136.01, 90.860, 0, 0],\n",
    "              [90.860, 98.810, -67.590, 0],\n",
    "              [0, -67.590, 132.01, 46.260],\n",
    "              [0, 0, 46.260, 177.17]], dtype=float)\n",
    "b = np.array([226.87, 122.08, 110.68, 223.43], dtype=float).reshape(4, 1)\n",
    "res.append(solve_qusetion(A, b))\n",
    "# print(r'\\boldsymbol{A}='+trans_to_latex(A))\n",
    "# print(r'\\boldsymbol{b}='+trans_to_latex(b))\n",
    "# print(r'\\boldsymbol{x}='+trans_to_latex(res[-1][0]))"
   ]
  },
  {
   "cell_type": "markdown",
   "metadata": {},
   "source": [
    "#### (3)"
   ]
  },
  {
   "cell_type": "code",
   "execution_count": 8,
   "metadata": {},
   "outputs": [
    {
     "data": {
      "text/latex": [
       "$$\n",
       "x=\\begin{bmatrix}\n",
       "1.00000000 \\\\\n",
       "1.00000000 \\\\\n",
       "1.00000000 \\\\\n",
       "1.00000000 \\\\\n",
       "\\end{bmatrix}\n",
       "$$"
      ],
      "text/plain": [
       "<IPython.core.display.Latex object>"
      ]
     },
     "metadata": {},
     "output_type": "display_data"
    }
   ],
   "source": [
    "A = np.array([[1, 1/2, 1/3, 1/4],\n",
    "              [1/2, 1/3, 1/4, 1/5],\n",
    "              [1/3, 1/4, 1/5, 1/6],\n",
    "              [1/4, 1/5, 1/6, 1/7]], dtype=float)\n",
    "b = np.array([25/12, 77/60, 57/60, 319/420], dtype=float).reshape(4, 1)\n",
    "res.append(solve_qusetion(A, b))\n",
    "# print(r'\\boldsymbol{A}='+trans_to_latex(A))\n",
    "# print(r'\\boldsymbol{b}='+trans_to_latex(b))\n",
    "# print(r'\\boldsymbol{x}='+trans_to_latex(res[-1][0]))"
   ]
  },
  {
   "cell_type": "markdown",
   "metadata": {},
   "source": [
    "#### (4)"
   ]
  },
  {
   "cell_type": "code",
   "execution_count": 9,
   "metadata": {},
   "outputs": [
    {
     "data": {
      "text/latex": [
       "$$\n",
       "x=\\begin{bmatrix}\n",
       "1.00000000 \\\\\n",
       "1.00000000 \\\\\n",
       "1.00000000 \\\\\n",
       "1.00000000 \\\\\n",
       "\\end{bmatrix}\n",
       "$$"
      ],
      "text/plain": [
       "<IPython.core.display.Latex object>"
      ]
     },
     "metadata": {},
     "output_type": "display_data"
    }
   ],
   "source": [
    "A = np.array([[10,  7,  8,  7],\n",
    "              [7,  5,  6,  5],\n",
    "              [8,  6, 10,  9],\n",
    "              [7,  5,  9, 10]], dtype=float)\n",
    "b = np.array([32, 23, 33, 31], dtype=float).reshape(4, 1)\n",
    "res.append(solve_qusetion(A, b))\n",
    "# print(r'\\boldsymbol{A}='+trans_to_latex(A))\n",
    "# print(r'\\boldsymbol{b}='+trans_to_latex(b))\n",
    "# print(r'\\boldsymbol{x}='+trans_to_latex(res[-1][0]))"
   ]
  },
  {
   "cell_type": "code",
   "execution_count": 10,
   "metadata": {},
   "outputs": [],
   "source": [
    "# 收尾\n",
    "res1 = res"
   ]
  },
  {
   "cell_type": "markdown",
   "metadata": {},
   "source": [
    "### 问题 2"
   ]
  },
  {
   "cell_type": "code",
   "execution_count": 11,
   "metadata": {},
   "outputs": [],
   "source": [
    "res = list()"
   ]
  },
  {
   "cell_type": "markdown",
   "metadata": {},
   "source": [
    "#### (1)"
   ]
  },
  {
   "cell_type": "code",
   "execution_count": 12,
   "metadata": {},
   "outputs": [
    {
     "data": {
      "text/latex": [
       "$$\n",
       "x=\\begin{bmatrix}\n",
       "0.95367911 \\\\\n",
       "0.32095685 \\\\\n",
       "1.07870808 \\\\\n",
       "-0.09010851 \\\\\n",
       "\\end{bmatrix}\n",
       "$$"
      ],
      "text/plain": [
       "<IPython.core.display.Latex object>"
      ]
     },
     "metadata": {},
     "output_type": "display_data"
    }
   ],
   "source": [
    "A = np.array([[197, 305, -206, -804],\n",
    "              [46.8, 71.3, -47.4, 52.0],\n",
    "              [88.6, 76.4, -10.8, 802],\n",
    "              [1.45, 5.90, 6.13, 36.5]], dtype=float)\n",
    "b = np.array([136, 11.7, 25.1, 6.60], dtype=float).reshape(4, 1)\n",
    "res.append(solve_qusetion(A, b))\n",
    "# print(r'\\boldsymbol{A}='+trans_to_latex(A))\n",
    "# print(r'\\boldsymbol{b}='+trans_to_latex(b))\n",
    "# print(r'\\boldsymbol{x}='+trans_to_latex(res[-1][0]))"
   ]
  },
  {
   "cell_type": "markdown",
   "metadata": {},
   "source": [
    "#### (2)"
   ]
  },
  {
   "cell_type": "code",
   "execution_count": 13,
   "metadata": {},
   "outputs": [
    {
     "data": {
      "text/latex": [
       "$$\n",
       "x=\\begin{bmatrix}\n",
       "0.51617730 \\\\\n",
       "0.41521947 \\\\\n",
       "0.10996610 \\\\\n",
       "1.03653922 \\\\\n",
       "\\end{bmatrix}\n",
       "$$"
      ],
      "text/plain": [
       "<IPython.core.display.Latex object>"
      ]
     },
     "metadata": {},
     "output_type": "display_data"
    }
   ],
   "source": [
    "A = np.array([[0.5398, 0.7161, -0.5554, -0.2982],\n",
    "              [0.5257, 0.6924, 0.3565, -0.6255],\n",
    "              [0.6465, -0.8187, -0.1872, 0.1291],\n",
    "              [0.5814, 0.9400, -0.7779, -0.4042]], dtype=float)\n",
    "b = np.array([0.2058, -0.0503, 0.1070, 0.1859], dtype=float).reshape(4, 1)\n",
    "res.append(solve_qusetion(A, b))\n",
    "# print(r'\\boldsymbol{A}='+trans_to_latex(A))\n",
    "# print(r'\\boldsymbol{b}='+trans_to_latex(b))\n",
    "# print(r'\\boldsymbol{x}='+trans_to_latex(res[-1][0]))"
   ]
  },
  {
   "cell_type": "markdown",
   "metadata": {},
   "source": [
    "#### (3)"
   ]
  },
  {
   "cell_type": "code",
   "execution_count": 14,
   "metadata": {},
   "outputs": [
    {
     "data": {
      "text/latex": [
       "$$\n",
       "x=\\begin{bmatrix}\n",
       "1.00000000 \\\\\n",
       "1.00000000 \\\\\n",
       "1.00000000 \\\\\n",
       "\\end{bmatrix}\n",
       "$$"
      ],
      "text/plain": [
       "<IPython.core.display.Latex object>"
      ]
     },
     "metadata": {},
     "output_type": "display_data"
    }
   ],
   "source": [
    "A = np.array([[10, 1, 2],\n",
    "              [1, 10, 2],\n",
    "              [1, 1, 5]], dtype=float)\n",
    "b = np.array([13, 13, 7], dtype=float).reshape(3, 1)\n",
    "res.append(solve_qusetion(A, b))\n",
    "# print(r'\\boldsymbol{A}='+trans_to_latex(A))\n",
    "# print(r'\\boldsymbol{b}='+trans_to_latex(b))\n",
    "# print(r'\\boldsymbol{x}='+trans_to_latex(res[-1][0]))"
   ]
  },
  {
   "cell_type": "markdown",
   "metadata": {},
   "source": [
    "#### (4)"
   ]
  },
  {
   "cell_type": "code",
   "execution_count": 15,
   "metadata": {},
   "outputs": [
    {
     "data": {
      "text/latex": [
       "$$\n",
       "x=\\begin{bmatrix}\n",
       "1.00000000 \\\\\n",
       "1.00000000 \\\\\n",
       "1.00000000 \\\\\n",
       "\\end{bmatrix}\n",
       "$$"
      ],
      "text/plain": [
       "<IPython.core.display.Latex object>"
      ]
     },
     "metadata": {},
     "output_type": "display_data"
    }
   ],
   "source": [
    "A = np.array([[4, -2, -4],\n",
    "              [-2, 17, 10],\n",
    "              [-4, 10, 9]], dtype=float)\n",
    "b = np.array([-2, 25, 15], dtype=float).reshape(3, 1)\n",
    "res.append(solve_qusetion(A, b))\n",
    "# print(r'\\boldsymbol{A}='+trans_to_latex(A))\n",
    "# print(r'\\boldsymbol{b}='+trans_to_latex(b))\n",
    "# print(r'\\boldsymbol{x}='+trans_to_latex(res[-1][0]))"
   ]
  },
  {
   "cell_type": "code",
   "execution_count": 16,
   "metadata": {},
   "outputs": [],
   "source": [
    "res2 = res"
   ]
  }
 ],
 "metadata": {
  "interpreter": {
   "hash": "7f865c9277ec3f40dda2032f009c5a4a64ed5b0e5096a575f7c0dffa2fafe7a4"
  },
  "kernelspec": {
   "display_name": "Python 3.9.7 ('calc')",
   "language": "python",
   "name": "python3"
  },
  "language_info": {
   "codemirror_mode": {
    "name": "ipython",
    "version": 3
   },
   "file_extension": ".py",
   "mimetype": "text/x-python",
   "name": "python",
   "nbconvert_exporter": "python",
   "pygments_lexer": "ipython3",
   "version": "3.9.7"
  },
  "orig_nbformat": 4
 },
 "nbformat": 4,
 "nbformat_minor": 2
}
