{
 "cells": [
  {
   "cell_type": "markdown",
   "metadata": {},
   "source": [
    "# 四阶龙格—库塔(Runge—Kutta)方法"
   ]
  },
  {
   "cell_type": "code",
   "execution_count": 1,
   "metadata": {},
   "outputs": [],
   "source": [
    "# 引入必要的库\n",
    "import math\n",
    "import numpy as np\n",
    "from IPython.display import Latex, display\n",
    "# 类型\n",
    "from typing import Callable\n",
    "ufunc = Callable[[float],float]\n",
    "bfunc = Callable[[float,float],float]\n",
    "from numpy import ndarray"
   ]
  },
  {
   "cell_type": "code",
   "execution_count": 2,
   "metadata": {},
   "outputs": [],
   "source": [
    "def Runge_Kutta(\n",
    "    f:bfunc,\n",
    "    a:float,\n",
    "    b:float,\n",
    "    alpha:float,\n",
    "    N:int\n",
    ") -> ndarray:\n",
    "    if a>=b:\n",
    "        raise ValueError\n",
    "    x_vector = np.linspace(a,b,N+1)\n",
    "    ylist = [alpha]\n",
    "    y = alpha\n",
    "    h = (b-a)/N\n",
    "    hf = lambda x,y: h*f(x,y)\n",
    "    for x in [x for x in x_vector if x !=b]:\n",
    "        K1=hf(x,y)\n",
    "        K2=hf(x+h/2,y+K1/2)\n",
    "        K3=hf(x+h/2,y+K2/2)\n",
    "        K4=hf(x+h,y+K3)\n",
    "        y = y+1.0/6*(K1+2*K2+2*K3+K4)\n",
    "        ylist.append(y)\n",
    "    y_vector = np.array(ylist).reshape(N+1,-1)\n",
    "    return np.hstack([x_vector.reshape(N+1,-1),y_vector])"
   ]
  },
  {
   "cell_type": "code",
   "execution_count": 3,
   "metadata": {},
   "outputs": [],
   "source": [
    "def get_Standard_Deviation(\n",
    "    g:ufunc,\n",
    "    res:ndarray\n",
    ") -> float:\n",
    "    x = res[:,0]\n",
    "    y = res[:,-1]\n",
    "    true_value = np.array([g(xi) for xi in x])\n",
    "    return np.sqrt(np.sum((y-true_value)**2)/len(y))\n"
   ]
  },
  {
   "cell_type": "code",
   "execution_count": 4,
   "metadata": {},
   "outputs": [],
   "source": [
    "def solve_question(\n",
    "    f:bfunc,\n",
    "    a:float,\n",
    "    b:float,\n",
    "    alpha:float,\n",
    "    Nlist:list[int],\n",
    "    g:ufunc\n",
    ") -> list[tuple[int,ndarray,float]]:\n",
    "    if a>=b or len(Nlist)==0:\n",
    "        raise ValueError\n",
    "    reslist = list()\n",
    "    for N in Nlist:\n",
    "        xyarray = Runge_Kutta(f,a,b,alpha,N)\n",
    "        S = get_Standard_Deviation(g,xyarray)\n",
    "        reslist.append((N,xyarray,S))\n",
    "    return reslist"
   ]
  },
  {
   "cell_type": "code",
   "execution_count": 5,
   "metadata": {},
   "outputs": [],
   "source": [
    "def trans_to_latex(a: ndarray) -> str:\n",
    "    if(len(a.shape)) != 2:\n",
    "        raise ValueError\n",
    "    # print('\\\\begin{bmatrix}')\n",
    "    s = '\\\\begin{bmatrix}\\n'\n",
    "    for row in a:\n",
    "        for i in range(len(row)):\n",
    "            s += f'{row[i]:.8f} '\n",
    "            s += '\\\\\\\\\\n' if i == len(row)-1 else '& '\n",
    "    s += '\\\\end{bmatrix}\\n'\n",
    "    return s"
   ]
  },
  {
   "cell_type": "markdown",
   "metadata": {},
   "source": [
    "## 问题求解\n",
    "### 问题 1\n",
    "#### (1)\n",
    "$$\n",
    "\\frac{\\mathrm{d}y}{\\mathrm{d}x}=x+y,~~x\\in[0,1],~~N=5,10,20,~~y(0)=-1\n",
    "$$\n",
    "精确解: $y=-x-1$"
   ]
  },
  {
   "cell_type": "code",
   "execution_count": 6,
   "metadata": {},
   "outputs": [
    {
     "name": "stdout",
     "output_type": "stream",
     "text": [
      "N =  5, S = 1.570092e-16\n",
      "xylist:\n"
     ]
    },
    {
     "data": {
      "text/latex": [
       "$$\n",
       "[x,y]=\\begin{bmatrix}\n",
       "0.00000000 & -1.00000000 \\\\\n",
       "0.20000000 & -1.20000000 \\\\\n",
       "0.40000000 & -1.40000000 \\\\\n",
       "0.60000000 & -1.60000000 \\\\\n",
       "0.80000000 & -1.80000000 \\\\\n",
       "1.00000000 & -2.00000000 \\\\\n",
       "\\end{bmatrix}\n",
       "$$"
      ],
      "text/plain": [
       "<IPython.core.display.Latex object>"
      ]
     },
     "metadata": {},
     "output_type": "display_data"
    },
    {
     "name": "stdout",
     "output_type": "stream",
     "text": [
      "N = 10, S = 5.142448e-16\n",
      "xylist:\n"
     ]
    },
    {
     "data": {
      "text/latex": [
       "$$\n",
       "[x,y]=\\begin{bmatrix}\n",
       "0.00000000 & -1.00000000 \\\\\n",
       "0.10000000 & -1.10000000 \\\\\n",
       "0.20000000 & -1.20000000 \\\\\n",
       "0.30000000 & -1.30000000 \\\\\n",
       "0.40000000 & -1.40000000 \\\\\n",
       "0.50000000 & -1.50000000 \\\\\n",
       "0.60000000 & -1.60000000 \\\\\n",
       "0.70000000 & -1.70000000 \\\\\n",
       "0.80000000 & -1.80000000 \\\\\n",
       "0.90000000 & -1.90000000 \\\\\n",
       "1.00000000 & -2.00000000 \\\\\n",
       "\\end{bmatrix}\n",
       "$$"
      ],
      "text/plain": [
       "<IPython.core.display.Latex object>"
      ]
     },
     "metadata": {},
     "output_type": "display_data"
    },
    {
     "name": "stdout",
     "output_type": "stream",
     "text": [
      "N = 20, S = 4.988655e-16\n",
      "xylist:\n"
     ]
    },
    {
     "data": {
      "text/latex": [
       "$$\n",
       "[x,y]=\\begin{bmatrix}\n",
       "0.00000000 & -1.00000000 \\\\\n",
       "0.05000000 & -1.05000000 \\\\\n",
       "0.10000000 & -1.10000000 \\\\\n",
       "0.15000000 & -1.15000000 \\\\\n",
       "0.20000000 & -1.20000000 \\\\\n",
       "0.25000000 & -1.25000000 \\\\\n",
       "0.30000000 & -1.30000000 \\\\\n",
       "0.35000000 & -1.35000000 \\\\\n",
       "0.40000000 & -1.40000000 \\\\\n",
       "0.45000000 & -1.45000000 \\\\\n",
       "0.50000000 & -1.50000000 \\\\\n",
       "0.55000000 & -1.55000000 \\\\\n",
       "0.60000000 & -1.60000000 \\\\\n",
       "0.65000000 & -1.65000000 \\\\\n",
       "0.70000000 & -1.70000000 \\\\\n",
       "0.75000000 & -1.75000000 \\\\\n",
       "0.80000000 & -1.80000000 \\\\\n",
       "0.85000000 & -1.85000000 \\\\\n",
       "0.90000000 & -1.90000000 \\\\\n",
       "0.95000000 & -1.95000000 \\\\\n",
       "1.00000000 & -2.00000000 \\\\\n",
       "\\end{bmatrix}\n",
       "$$"
      ],
      "text/plain": [
       "<IPython.core.display.Latex object>"
      ]
     },
     "metadata": {},
     "output_type": "display_data"
    }
   ],
   "source": [
    "res = solve_question(\n",
    "    f = lambda x,y:x+y,\n",
    "    g = lambda x:-x-1,\n",
    "    a=0,\n",
    "    b=1,\n",
    "    alpha=-1,\n",
    "    Nlist=[5,10,20]\n",
    ")\n",
    "for N,R,S in res:\n",
    "    print(f'N = {N:2d}, S = {S:.6e}')\n",
    "    print('xylist:')\n",
    "    # print(R)\n",
    "    s = '$$\\n[x,y]='+trans_to_latex(R)+'$$'\n",
    "    display(Latex(s))"
   ]
  },
  {
   "cell_type": "markdown",
   "metadata": {},
   "source": [
    "#### (2)\n",
    "$$\n",
    "\\frac{\\mathrm{d}y}{\\mathrm{d}x}=-y^2,~~x\\in[0,1],~~N=5,10,20,~~y(0)=1\n",
    "$$\n",
    "精确解: $y=\\frac{1}{x+1}$"
   ]
  },
  {
   "cell_type": "code",
   "execution_count": 7,
   "metadata": {},
   "outputs": [
    {
     "name": "stdout",
     "output_type": "stream",
     "text": [
      "N =  5, S = 5.069083e-06\n",
      "xylist:\n"
     ]
    },
    {
     "data": {
      "text/latex": [
       "$$\n",
       "[x,y]=\\begin{bmatrix}\n",
       "0.00000000 & 1.00000000 \\\\\n",
       "0.20000000 & 0.83333904 \\\\\n",
       "0.40000000 & 0.71429213 \\\\\n",
       "0.60000000 & 0.62500589 \\\\\n",
       "0.80000000 & 0.55556069 \\\\\n",
       "1.00000000 & 0.50000441 \\\\\n",
       "\\end{bmatrix}\n",
       "$$"
      ],
      "text/plain": [
       "<IPython.core.display.Latex object>"
      ]
     },
     "metadata": {},
     "output_type": "display_data"
    },
    {
     "name": "stdout",
     "output_type": "stream",
     "text": [
      "N = 10, S = 3.581699e-07\n",
      "xylist:\n"
     ]
    },
    {
     "data": {
      "text/latex": [
       "$$\n",
       "[x,y]=\\begin{bmatrix}\n",
       "0.00000000 & 1.00000000 \\\\\n",
       "0.10000000 & 0.90909119 \\\\\n",
       "0.20000000 & 0.83333373 \\\\\n",
       "0.30000000 & 0.76923121 \\\\\n",
       "0.40000000 & 0.71428615 \\\\\n",
       "0.50000000 & 0.66666709 \\\\\n",
       "0.60000000 & 0.62500040 \\\\\n",
       "0.70000000 & 0.58823567 \\\\\n",
       "0.80000000 & 0.55555590 \\\\\n",
       "0.90000000 & 0.52631611 \\\\\n",
       "1.00000000 & 0.50000030 \\\\\n",
       "\\end{bmatrix}\n",
       "$$"
      ],
      "text/plain": [
       "<IPython.core.display.Latex object>"
      ]
     },
     "metadata": {},
     "output_type": "display_data"
    },
    {
     "name": "stdout",
     "output_type": "stream",
     "text": [
      "N = 20, S = 2.316655e-08\n",
      "xylist:\n"
     ]
    },
    {
     "data": {
      "text/latex": [
       "$$\n",
       "[x,y]=\\begin{bmatrix}\n",
       "0.00000000 & 1.00000000 \\\\\n",
       "0.05000000 & 0.95238096 \\\\\n",
       "0.10000000 & 0.90909093 \\\\\n",
       "0.15000000 & 0.86956524 \\\\\n",
       "0.20000000 & 0.83333336 \\\\\n",
       "0.25000000 & 0.80000003 \\\\\n",
       "0.30000000 & 0.76923080 \\\\\n",
       "0.35000000 & 0.74074077 \\\\\n",
       "0.40000000 & 0.71428574 \\\\\n",
       "0.45000000 & 0.68965520 \\\\\n",
       "0.50000000 & 0.66666669 \\\\\n",
       "0.55000000 & 0.64516132 \\\\\n",
       "0.60000000 & 0.62500003 \\\\\n",
       "0.65000000 & 0.60606063 \\\\\n",
       "0.70000000 & 0.58823532 \\\\\n",
       "0.75000000 & 0.57142859 \\\\\n",
       "0.80000000 & 0.55555558 \\\\\n",
       "0.85000000 & 0.54054056 \\\\\n",
       "0.90000000 & 0.52631581 \\\\\n",
       "0.95000000 & 0.51282053 \\\\\n",
       "1.00000000 & 0.50000002 \\\\\n",
       "\\end{bmatrix}\n",
       "$$"
      ],
      "text/plain": [
       "<IPython.core.display.Latex object>"
      ]
     },
     "metadata": {},
     "output_type": "display_data"
    }
   ],
   "source": [
    "res = solve_question(\n",
    "    f = lambda x,y:-y**2,\n",
    "    g = lambda x:1/(x+1),\n",
    "    a=0,\n",
    "    b=1,\n",
    "    alpha=1,\n",
    "    Nlist=[5,10,20]\n",
    ")\n",
    "for N,R,S in res:\n",
    "    print(f'N = {N:2d}, S = {S:.6e}')\n",
    "    print('xylist:')\n",
    "    # print(R)\n",
    "    s = '$$\\n[x,y]='+trans_to_latex(R)+'$$'\n",
    "    display(Latex(s))"
   ]
  },
  {
   "cell_type": "markdown",
   "metadata": {},
   "source": [
    "### 问题 2\n",
    "\n",
    "#### (1)\n",
    "\n",
    "$$\n",
    "\\frac{\\mathrm{d}y}{\\mathrm{d}x}=\\frac{2y}{x}+x^2e^x,~~x\\in[1,3],~~N=5,10,20,~~y(1)=0\n",
    "$$\n",
    "精确解: $y=x^2(e^x-e)$"
   ]
  },
  {
   "cell_type": "code",
   "execution_count": 8,
   "metadata": {},
   "outputs": [
    {
     "name": "stdout",
     "output_type": "stream",
     "text": [
      "N =  5, S = 4.227449e-02\n",
      "xylist:\n"
     ]
    },
    {
     "data": {
      "text/latex": [
       "$$\n",
       "[x,y]=\\begin{bmatrix}\n",
       "1.00000000 & 0.00000000 \\\\\n",
       "1.40000000 & 2.61394279 \\\\\n",
       "1.80000000 & 10.77631317 \\\\\n",
       "2.20000000 & 30.49165420 \\\\\n",
       "2.60000000 & 72.58559861 \\\\\n",
       "3.00000000 & 156.22519828 \\\\\n",
       "\\end{bmatrix}\n",
       "$$"
      ],
      "text/plain": [
       "<IPython.core.display.Latex object>"
      ]
     },
     "metadata": {},
     "output_type": "display_data"
    },
    {
     "name": "stdout",
     "output_type": "stream",
     "text": [
      "N = 10, S = 3.559349e-03\n",
      "xylist:\n"
     ]
    },
    {
     "data": {
      "text/latex": [
       "$$\n",
       "[x,y]=\\begin{bmatrix}\n",
       "1.00000000 & 0.00000000 \\\\\n",
       "1.20000000 & 0.86637911 \\\\\n",
       "1.40000000 & 2.61974052 \\\\\n",
       "1.60000000 & 5.71989528 \\\\\n",
       "1.80000000 & 10.79201760 \\\\\n",
       "2.00000000 & 18.68085236 \\\\\n",
       "2.20000000 & 30.52159814 \\\\\n",
       "2.40000000 & 47.83236583 \\\\\n",
       "2.60000000 & 72.63450354 \\\\\n",
       "2.80000000 & 107.60885199 \\\\\n",
       "3.00000000 & 156.29825744 \\\\\n",
       "\\end{bmatrix}\n",
       "$$"
      ],
      "text/plain": [
       "<IPython.core.display.Latex object>"
      ]
     },
     "metadata": {},
     "output_type": "display_data"
    },
    {
     "name": "stdout",
     "output_type": "stream",
     "text": [
      "N = 20, S = 2.593603e-04\n",
      "xylist:\n"
     ]
    },
    {
     "data": {
      "text/latex": [
       "$$\n",
       "[x,y]=\\begin{bmatrix}\n",
       "1.00000000 & 0.00000000 \\\\\n",
       "1.10000000 & 0.34591029 \\\\\n",
       "1.20000000 & 0.86662169 \\\\\n",
       "1.30000000 & 1.60718135 \\\\\n",
       "1.40000000 & 2.62031131 \\\\\n",
       "1.50000000 & 3.96760190 \\\\\n",
       "1.60000000 & 5.72087932 \\\\\n",
       "1.70000000 & 7.96377179 \\\\\n",
       "1.80000000 & 10.79350178 \\\\\n",
       "1.90000000 & 14.32293573 \\\\\n",
       "2.00000000 & 18.68292657 \\\\\n",
       "2.10000000 & 24.02498942 \\\\\n",
       "2.20000000 & 30.52435589 \\\\\n",
       "2.30000000 & 38.38345866 \\\\\n",
       "2.40000000 & 47.83590478 \\\\\n",
       "2.50000000 & 59.15100383 \\\\\n",
       "2.60000000 & 72.63892578 \\\\\n",
       "2.70000000 & 88.65657333 \\\\\n",
       "2.80000000 & 107.61426439 \\\\\n",
       "2.90000000 & 129.98333312 \\\\\n",
       "3.00000000 & 156.30477188 \\\\\n",
       "\\end{bmatrix}\n",
       "$$"
      ],
      "text/plain": [
       "<IPython.core.display.Latex object>"
      ]
     },
     "metadata": {},
     "output_type": "display_data"
    }
   ],
   "source": [
    "res = solve_question(\n",
    "    f = lambda x,y:2*y/x+x**2*np.exp(x),\n",
    "    g = lambda x:x**2*(np.exp(x)-math.e),\n",
    "    a=1,\n",
    "    b=3,\n",
    "    alpha=0,\n",
    "    Nlist=[5,10,20]\n",
    ")\n",
    "for N,R,S in res:\n",
    "    print(f'N = {N:2d}, S = {S:.6e}')\n",
    "    print('xylist:')\n",
    "    # print(R)\n",
    "    s = '$$\\n[x,y]='+trans_to_latex(R)+'$$'\n",
    "    display(Latex(s))"
   ]
  },
  {
   "cell_type": "markdown",
   "metadata": {},
   "source": [
    "#### (2)\n",
    "\n",
    "$$\n",
    "\\frac{\\mathrm{d}y}{\\mathrm{d}x}=\\frac{1}{x}(y^2+y),~~x\\in[1,3],~~N=5,10,20,~~y(1)=-2\n",
    "$$\n",
    "精确解: $y=\\frac{2x}{1-2x}$"
   ]
  },
  {
   "cell_type": "code",
   "execution_count": 9,
   "metadata": {},
   "outputs": [
    {
     "name": "stdout",
     "output_type": "stream",
     "text": [
      "N =  5, S = 8.636723e-04\n",
      "xylist:\n"
     ]
    },
    {
     "data": {
      "text/latex": [
       "$$\n",
       "[x,y]=\\begin{bmatrix}\n",
       "1.00000000 & -2.00000000 \\\\\n",
       "1.40000000 & -1.55398900 \\\\\n",
       "1.80000000 & -1.38361729 \\\\\n",
       "2.20000000 & -1.29340153 \\\\\n",
       "2.60000000 & -1.23754016 \\\\\n",
       "3.00000000 & -1.19954796 \\\\\n",
       "\\end{bmatrix}\n",
       "$$"
      ],
      "text/plain": [
       "<IPython.core.display.Latex object>"
      ]
     },
     "metadata": {},
     "output_type": "display_data"
    },
    {
     "name": "stdout",
     "output_type": "stream",
     "text": [
      "N = 10, S = 2.098017e-05\n",
      "xylist:\n"
     ]
    },
    {
     "data": {
      "text/latex": [
       "$$\n",
       "[x,y]=\\begin{bmatrix}\n",
       "1.00000000 & -2.00000000 \\\\\n",
       "1.20000000 & -1.71424518 \\\\\n",
       "1.40000000 & -1.55552288 \\\\\n",
       "1.60000000 & -1.45451975 \\\\\n",
       "1.80000000 & -1.38459451 \\\\\n",
       "2.00000000 & -1.33331586 \\\\\n",
       "2.20000000 & -1.29410266 \\\\\n",
       "2.40000000 & -1.26314480 \\\\\n",
       "2.60000000 & -1.23808362 \\\\\n",
       "2.80000000 & -1.21738087 \\\\\n",
       "3.00000000 & -1.19999054 \\\\\n",
       "\\end{bmatrix}\n",
       "$$"
      ],
      "text/plain": [
       "<IPython.core.display.Latex object>"
      ]
     },
     "metadata": {},
     "output_type": "display_data"
    },
    {
     "name": "stdout",
     "output_type": "stream",
     "text": [
      "N = 20, S = 2.991036e-07\n",
      "xylist:\n"
     ]
    },
    {
     "data": {
      "text/latex": [
       "$$\n",
       "[x,y]=\\begin{bmatrix}\n",
       "1.00000000 & -2.00000000 \\\\\n",
       "1.10000000 & -1.83333283 \\\\\n",
       "1.20000000 & -1.71428517 \\\\\n",
       "1.30000000 & -1.62499950 \\\\\n",
       "1.40000000 & -1.55555511 \\\\\n",
       "1.50000000 & -1.49999961 \\\\\n",
       "1.60000000 & -1.45454510 \\\\\n",
       "1.70000000 & -1.41666635 \\\\\n",
       "1.80000000 & -1.38461510 \\\\\n",
       "1.90000000 & -1.35714260 \\\\\n",
       "2.00000000 & -1.33333309 \\\\\n",
       "2.10000000 & -1.31249978 \\\\\n",
       "2.20000000 & -1.29411744 \\\\\n",
       "2.30000000 & -1.27777759 \\\\\n",
       "2.40000000 & -1.26315771 \\\\\n",
       "2.50000000 & -1.24999983 \\\\\n",
       "2.60000000 & -1.23809508 \\\\\n",
       "2.70000000 & -1.22727258 \\\\\n",
       "2.80000000 & -1.21739116 \\\\\n",
       "2.90000000 & -1.20833320 \\\\\n",
       "3.00000000 & -1.19999987 \\\\\n",
       "\\end{bmatrix}\n",
       "$$"
      ],
      "text/plain": [
       "<IPython.core.display.Latex object>"
      ]
     },
     "metadata": {},
     "output_type": "display_data"
    }
   ],
   "source": [
    "res = solve_question(\n",
    "    f = lambda x,y:(y+y**2)/x,\n",
    "    g = lambda x:2*x/(1-2*x),\n",
    "    a=1,\n",
    "    b=3,\n",
    "    alpha=-2,\n",
    "    Nlist=[5,10,20]\n",
    ")\n",
    "for N,R,S in res:\n",
    "    print(f'N = {N:2d}, S = {S:.6e}')\n",
    "    print('xylist:')\n",
    "    # print(R)\n",
    "    s = '$$\\n[x,y]='+trans_to_latex(R)+'$$'\n",
    "    display(Latex(s))"
   ]
  },
  {
   "cell_type": "markdown",
   "metadata": {},
   "source": [
    "### 问题 3\n",
    "#### (1)\n",
    "\n",
    "$$\n",
    "\\frac{\\mathrm{d}y}{\\mathrm{d}x}=-20(y-x^2)+2x,~~x\\in[0,1],~~N=5,10,20,~~y(0)=\\frac{1}{3}\n",
    "$$\n",
    "精确解: $y=x^2+\\frac{1}{3}e^{-20x}$"
   ]
  },
  {
   "cell_type": "code",
   "execution_count": 10,
   "metadata": {},
   "outputs": [
    {
     "name": "stdout",
     "output_type": "stream",
     "text": [
      "N =  5, S = 4.513822e+02\n",
      "xylist:\n"
     ]
    },
    {
     "data": {
      "text/latex": [
       "$$\n",
       "[x,y]=\\begin{bmatrix}\n",
       "0.00000000 & 0.33333333 \\\\\n",
       "0.20000000 & 1.76000000 \\\\\n",
       "0.40000000 & 8.81333333 \\\\\n",
       "0.60000000 & 43.68000000 \\\\\n",
       "0.80000000 & 217.29333333 \\\\\n",
       "1.00000000 & 1084.32000000 \\\\\n",
       "\\end{bmatrix}\n",
       "$$"
      ],
      "text/plain": [
       "<IPython.core.display.Latex object>"
      ]
     },
     "metadata": {},
     "output_type": "display_data"
    },
    {
     "name": "stdout",
     "output_type": "stream",
     "text": [
      "N = 10, S = 2.328359e-02\n",
      "xylist:\n"
     ]
    },
    {
     "data": {
      "text/latex": [
       "$$\n",
       "[x,y]=\\begin{bmatrix}\n",
       "0.00000000 & 0.33333333 \\\\\n",
       "0.10000000 & 0.12277778 \\\\\n",
       "0.20000000 & 0.07925926 \\\\\n",
       "0.30000000 & 0.10475309 \\\\\n",
       "0.40000000 & 0.16658436 \\\\\n",
       "0.50000000 & 0.25386145 \\\\\n",
       "0.60000000 & 0.36295382 \\\\\n",
       "0.70000000 & 0.49265127 \\\\\n",
       "0.80000000 & 0.64255042 \\\\\n",
       "0.90000000 & 0.81251681 \\\\\n",
       "1.00000000 & 1.00250560 \\\\\n",
       "\\end{bmatrix}\n",
       "$$"
      ],
      "text/plain": [
       "<IPython.core.display.Latex object>"
      ]
     },
     "metadata": {},
     "output_type": "display_data"
    },
    {
     "name": "stdout",
     "output_type": "stream",
     "text": [
      "N = 20, S = 7.217970e-04\n",
      "xylist:\n"
     ]
    },
    {
     "data": {
      "text/latex": [
       "$$\n",
       "[x,y]=\\begin{bmatrix}\n",
       "0.00000000 & 0.33333333 \\\\\n",
       "0.05000000 & 0.12755208 \\\\\n",
       "0.10000000 & 0.05694661 \\\\\n",
       "0.15000000 & 0.04015706 \\\\\n",
       "0.20000000 & 0.04667348 \\\\\n",
       "0.25000000 & 0.06505464 \\\\\n",
       "0.30000000 & 0.09101007 \\\\\n",
       "0.35000000 & 0.12293086 \\\\\n",
       "0.40000000 & 0.16021366 \\\\\n",
       "0.45000000 & 0.20263220 \\\\\n",
       "0.50000000 & 0.25010166 \\\\\n",
       "0.55000000 & 0.30259021 \\\\\n",
       "0.60000000 & 0.36008591 \\\\\n",
       "0.65000000 & 0.42258430 \\\\\n",
       "0.70000000 & 0.49008370 \\\\\n",
       "0.75000000 & 0.56258347 \\\\\n",
       "0.80000000 & 0.64008338 \\\\\n",
       "0.85000000 & 0.72258335 \\\\\n",
       "0.90000000 & 0.81008334 \\\\\n",
       "0.95000000 & 0.90258334 \\\\\n",
       "1.00000000 & 1.00008333 \\\\\n",
       "\\end{bmatrix}\n",
       "$$"
      ],
      "text/plain": [
       "<IPython.core.display.Latex object>"
      ]
     },
     "metadata": {},
     "output_type": "display_data"
    }
   ],
   "source": [
    "res = solve_question(\n",
    "    f = lambda x,y:-20*(y-x**2)+2*x,\n",
    "    g = lambda x:x**2+1/3*np.exp(-20*x),\n",
    "    a=0,\n",
    "    b=1,\n",
    "    alpha=1/3,\n",
    "    Nlist=[5,10,20]\n",
    ")\n",
    "for N,R,S in res:\n",
    "    print(f'N = {N:2d}, S = {S:.6e}')\n",
    "    print('xylist:')\n",
    "    # print(R)\n",
    "    s = '$$\\n[x,y]='+trans_to_latex(R)+'$$'\n",
    "    display(Latex(s))"
   ]
  },
  {
   "cell_type": "markdown",
   "metadata": {},
   "source": [
    "#### (2)\n",
    "\n",
    "$$\n",
    "\\frac{\\mathrm{d}y}{\\mathrm{d}x}=-20y+20\\sin x +\\cos x,~~x\\in[0,1],~~N=5,10,20,~~y(0)=1\n",
    "$$\n",
    "精确解: $y=e^{-20x}+\\sin x$"
   ]
  },
  {
   "cell_type": "code",
   "execution_count": 11,
   "metadata": {},
   "outputs": [
    {
     "name": "stdout",
     "output_type": "stream",
     "text": [
      "N =  5, S = 1.301231e+03\n",
      "xylist:\n"
     ]
    },
    {
     "data": {
      "text/latex": [
       "$$\n",
       "[x,y]=\\begin{bmatrix}\n",
       "0.00000000 & 1.00000000 \\\\\n",
       "0.20000000 & 5.19733811 \\\\\n",
       "0.40000000 & 25.37617070 \\\\\n",
       "0.60000000 & 125.48681526 \\\\\n",
       "0.80000000 & 625.31209552 \\\\\n",
       "1.00000000 & 3123.79515095 \\\\\n",
       "\\end{bmatrix}\n",
       "$$"
      ],
      "text/plain": [
       "<IPython.core.display.Latex object>"
      ]
     },
     "metadata": {},
     "output_type": "display_data"
    },
    {
     "name": "stdout",
     "output_type": "stream",
     "text": [
      "N = 10, S = 6.681782e-02\n",
      "xylist:\n"
     ]
    },
    {
     "data": {
      "text/latex": [
       "$$\n",
       "[x,y]=\\begin{bmatrix}\n",
       "0.00000000 & 1.00000000 \\\\\n",
       "0.10000000 & 0.43313900 \\\\\n",
       "0.20000000 & 0.30966047 \\\\\n",
       "0.30000000 & 0.33232467 \\\\\n",
       "0.40000000 & 0.40141397 \\\\\n",
       "0.50000000 & 0.48307434 \\\\\n",
       "0.60000000 & 0.56543528 \\\\\n",
       "0.70000000 & 0.64398900 \\\\\n",
       "0.80000000 & 0.71672235 \\\\\n",
       "0.90000000 & 0.78249915 \\\\\n",
       "1.00000000 & 0.84052572 \\\\\n",
       "\\end{bmatrix}\n",
       "$$"
      ],
      "text/plain": [
       "<IPython.core.display.Latex object>"
      ]
     },
     "metadata": {},
     "output_type": "display_data"
    },
    {
     "name": "stdout",
     "output_type": "stream",
     "text": [
      "N = 20, S = 2.070013e-03\n",
      "xylist:\n"
     ]
    },
    {
     "data": {
      "text/latex": [
       "$$\n",
       "[x,y]=\\begin{bmatrix}\n",
       "0.00000000 & 1.00000000 \\\\\n",
       "0.05000000 & 0.42497852 \\\\\n",
       "0.10000000 & 0.24045622 \\\\\n",
       "0.15000000 & 0.20216844 \\\\\n",
       "0.20000000 & 0.21843866 \\\\\n",
       "0.25000000 & 0.25481165 \\\\\n",
       "0.30000000 & 0.29829102 \\\\\n",
       "0.35000000 & 0.34392855 \\\\\n",
       "0.40000000 & 0.38979534 \\\\\n",
       "0.45000000 & 0.43509617 \\\\\n",
       "0.50000000 & 0.47946262 \\\\\n",
       "0.55000000 & 0.52268809 \\\\\n",
       "0.60000000 & 0.56462864 \\\\\n",
       "0.65000000 & 0.60516599 \\\\\n",
       "0.70000000 & 0.64419376 \\\\\n",
       "0.75000000 & 0.68161253 \\\\\n",
       "0.80000000 & 0.71732804 \\\\\n",
       "0.85000000 & 0.75125076 \\\\\n",
       "0.90000000 & 0.78329581 \\\\\n",
       "0.95000000 & 0.81338305 \\\\\n",
       "1.00000000 & 0.84143727 \\\\\n",
       "\\end{bmatrix}\n",
       "$$"
      ],
      "text/plain": [
       "<IPython.core.display.Latex object>"
      ]
     },
     "metadata": {},
     "output_type": "display_data"
    }
   ],
   "source": [
    "res = solve_question(\n",
    "    f = lambda x,y:-20*y+20*np.sin(x)+np.cos(x),\n",
    "    g = lambda x:np.exp(-20*x)+np.sin(x),\n",
    "    a=0,\n",
    "    b=1,\n",
    "    alpha=1,\n",
    "    Nlist=[5,10,20]\n",
    ")\n",
    "for N,R,S in res:\n",
    "    print(f'N = {N:2d}, S = {S:.6e}')\n",
    "    print('xylist:')\n",
    "    # print(R)\n",
    "    s = '$$\\n[x,y]='+trans_to_latex(R)+'$$'\n",
    "    display(Latex(s))"
   ]
  },
  {
   "cell_type": "markdown",
   "metadata": {},
   "source": [
    "#### (3)\n",
    "\n",
    "$$\n",
    "\\frac{\\mathrm{d}y}{\\mathrm{d}x}=-20(y-e^x\\sin x)+e^x(\\sin x + \\cos x),~~x\\in[0,1],~~N=5,10,20,~~y(0)=0\n",
    "$$\n",
    "精确解: $y=e^x\\sin x$"
   ]
  },
  {
   "cell_type": "code",
   "execution_count": 12,
   "metadata": {},
   "outputs": [
    {
     "name": "stdout",
     "output_type": "stream",
     "text": [
      "N =  5, S = 1.902084e+01\n",
      "xylist:\n"
     ]
    },
    {
     "data": {
      "text/latex": [
       "$$\n",
       "[x,y]=\\begin{bmatrix}\n",
       "0.00000000 & 0.00000000 \\\\\n",
       "0.20000000 & 0.29864621 \\\\\n",
       "0.40000000 & 0.92721987 \\\\\n",
       "0.60000000 & 2.83547734 \\\\\n",
       "0.80000000 & 10.71088533 \\\\\n",
       "1.00000000 & 47.94144638 \\\\\n",
       "\\end{bmatrix}\n",
       "$$"
      ],
      "text/plain": [
       "<IPython.core.display.Latex object>"
      ]
     },
     "metadata": {},
     "output_type": "display_data"
    },
    {
     "name": "stdout",
     "output_type": "stream",
     "text": [
      "N = 10, S = 3.148600e-03\n",
      "xylist:\n"
     ]
    },
    {
     "data": {
      "text/latex": [
       "$$\n",
       "[x,y]=\\begin{bmatrix}\n",
       "0.00000000 & 0.00000000 \\\\\n",
       "0.10000000 & 0.11205511 \\\\\n",
       "0.20000000 & 0.24511651 \\\\\n",
       "0.30000000 & 0.40177810 \\\\\n",
       "0.40000000 & 0.58409696 \\\\\n",
       "0.50000000 & 0.79382205 \\\\\n",
       "0.60000000 & 1.03241831 \\\\\n",
       "0.70000000 & 1.30101499 \\\\\n",
       "0.80000000 & 1.60032101 \\\\\n",
       "0.90000000 & 1.93052103 \\\\\n",
       "1.00000000 & 2.29115692 \\\\\n",
       "\\end{bmatrix}\n",
       "$$"
      ],
      "text/plain": [
       "<IPython.core.display.Latex object>"
      ]
     },
     "metadata": {},
     "output_type": "display_data"
    },
    {
     "name": "stdout",
     "output_type": "stream",
     "text": [
      "N = 20, S = 1.101164e-04\n",
      "xylist:\n"
     ]
    },
    {
     "data": {
      "text/latex": [
       "$$\n",
       "[x,y]=\\begin{bmatrix}\n",
       "0.00000000 & 0.00000000 \\\\\n",
       "0.05000000 & 0.05259504 \\\\\n",
       "0.10000000 & 0.11040899 \\\\\n",
       "0.15000000 & 0.17370939 \\\\\n",
       "0.20000000 & 0.24274900 \\\\\n",
       "0.25000000 & 0.31777169 \\\\\n",
       "0.30000000 & 0.39901355 \\\\\n",
       "0.35000000 & 0.48670207 \\\\\n",
       "0.40000000 & 0.58105449 \\\\\n",
       "0.45000000 & 0.68227577 \\\\\n",
       "0.50000000 & 0.79055629 \\\\\n",
       "0.55000000 & 0.90606933 \\\\\n",
       "0.60000000 & 1.02896834 \\\\\n",
       "0.65000000 & 1.15938414 \\\\\n",
       "0.70000000 & 1.29742175 \\\\\n",
       "0.75000000 & 1.44315720 \\\\\n",
       "0.80000000 & 1.59663402 \\\\\n",
       "0.85000000 & 1.75785967 \\\\\n",
       "0.90000000 & 1.92680163 \\\\\n",
       "0.95000000 & 2.10338342 \\\\\n",
       "1.00000000 & 2.28748035 \\\\\n",
       "\\end{bmatrix}\n",
       "$$"
      ],
      "text/plain": [
       "<IPython.core.display.Latex object>"
      ]
     },
     "metadata": {},
     "output_type": "display_data"
    }
   ],
   "source": [
    "res = solve_question(\n",
    "    f = lambda x,y:-20*(y-np.exp(x)*np.sin(x))+np.exp(x)*(np.sin(x)+np.cos(x)),\n",
    "    g = lambda x:np.exp(x)*np.sin(x),\n",
    "    a=0,\n",
    "    b=1,\n",
    "    alpha=0,\n",
    "    Nlist=[5,10,20]\n",
    ")\n",
    "for N,R,S in res:\n",
    "    print(f'N = {N:2d}, S = {S:.6e}')\n",
    "    print('xylist:')\n",
    "    # print(R)\n",
    "    s = '$$\\n[x,y]='+trans_to_latex(R)+'$$'\n",
    "    display(Latex(s))"
   ]
  }
 ],
 "metadata": {
  "interpreter": {
   "hash": "7f865c9277ec3f40dda2032f009c5a4a64ed5b0e5096a575f7c0dffa2fafe7a4"
  },
  "kernelspec": {
   "display_name": "Python 3.9.7 ('calc')",
   "language": "python",
   "name": "python3"
  },
  "language_info": {
   "codemirror_mode": {
    "name": "ipython",
    "version": 3
   },
   "file_extension": ".py",
   "mimetype": "text/x-python",
   "name": "python",
   "nbconvert_exporter": "python",
   "pygments_lexer": "ipython3",
   "version": "3.9.7"
  },
  "orig_nbformat": 4
 },
 "nbformat": 4,
 "nbformat_minor": 2
}
