{
 "cells": [
  {
   "cell_type": "markdown",
   "metadata": {},
   "source": [
    "# 龙贝格(Romberg)积分法"
   ]
  },
  {
   "cell_type": "code",
   "execution_count": 1,
   "metadata": {},
   "outputs": [],
   "source": [
    "# 引入必要的库\n",
    "import numpy as np\n",
    "\n",
    "# typing\n",
    "from typing import Callable\n",
    "ufunc = Callable[[float],float]"
   ]
  },
  {
   "cell_type": "code",
   "execution_count": 2,
   "metadata": {},
   "outputs": [],
   "source": [
    "def Romberg(\n",
    "    a: float,\n",
    "    b: float,\n",
    "    epsilon: float,\n",
    "    f: ufunc\n",
    ") -> tuple[float, list[list[float]]]:\n",
    "    h = b - a\n",
    "    i = 1\n",
    "    Tlist = list()\n",
    "    Tlist.append([h/2*(f(a)+f(b))])\n",
    "    while True:\n",
    "        ii = 2**(i-1)\n",
    "        Tlist[0].append(Tlist[0][i-1]/2+h/2 *\\\n",
    "                        (sum([f(a+(k-1/2)*h) for k in range(1, ii+1)])))\n",
    "        for m in range(1, i+1):\n",
    "            if m == i:\n",
    "                Tlist.append([])\n",
    "            Tlist[m].append((4**m*Tlist[m-1][-1]-Tlist[m-1][-2])/(4**m-1))\n",
    "        if abs(Tlist[i][0]-Tlist[i-1][0]) < epsilon:\n",
    "            return (Tlist[i][0], Tlist)\n",
    "        h /= 2\n",
    "        i += 1\n"
   ]
  },
  {
   "cell_type": "markdown",
   "metadata": {},
   "source": [
    "## 问题求解\n",
    "\n",
    "### 问题 1\n",
    "\n",
    "#### (1)\n",
    "\n",
    "$$\n",
    "\\int_0^1 x^2e^x dx,~~\\epsilon=10^{-6}\n",
    "$$"
   ]
  },
  {
   "cell_type": "code",
   "execution_count": 3,
   "metadata": {},
   "outputs": [
    {
     "name": "stdout",
     "output_type": "stream",
     "text": [
      "result = 0.7182818284623739\n",
      "Tlist:\n",
      "\n",
      " 1.35914091,  0.88566062,  0.76059633,  0.72889018,  0.72093578\n",
      " 0.72783385,  0.71890824,  0.71832146,  0.71828431\n",
      " 0.71831320,  0.71828234,  0.71828184\n",
      " 0.71828185,  0.71828183\n",
      " 0.71828183\n",
      "\\begin{matrix}\n",
      " 1.35914091 &  0.88566062 &  0.76059633 &  0.72889018 &  0.72093578 \\\\\n",
      " 0.72783385 &  0.71890824 &  0.71832146 &  0.71828431 \\\\\n",
      " 0.71831320 &  0.71828234 &  0.71828184 \\\\\n",
      " 0.71828185 &  0.71828183 \\\\\n",
      " 0.71828183 \\\\\n",
      "\\end{matrix}\n"
     ]
    }
   ],
   "source": [
    "res,Tlist = Romberg(\n",
    "    a=0,\n",
    "    b=1,\n",
    "    epsilon=1e-6,\n",
    "    f=lambda x:x**2*np.exp(x)\n",
    ")\n",
    "print(f'result = {res}\\nTlist:\\n')\n",
    "for Tslice in Tlist:\n",
    "    print(*[f'{T:11.8f}' for T in Tslice],sep=', ')\n",
    "print(r'\\begin{matrix}')\n",
    "for Tslice in Tlist:\n",
    "    print(*[f'{T:11.8f}' for T in Tslice],sep=r' & ',end='')\n",
    "    print(r' \\\\')\n",
    "print(r'\\end{matrix}')"
   ]
  },
  {
   "cell_type": "markdown",
   "metadata": {},
   "source": [
    "#### (2)\n",
    "\n",
    "$$\n",
    "\\int_1^3 e^x\\sin x dx,~~\\epsilon=10^{-6}\n",
    "$$"
   ]
  },
  {
   "cell_type": "code",
   "execution_count": 4,
   "metadata": {},
   "outputs": [
    {
     "name": "stdout",
     "output_type": "stream",
     "text": [
      "result = 10.950170314683838\n",
      "Tlist:\n",
      "\n",
      " 5.12182642,  9.27976291, 10.52055428, 10.84204347, 10.92309389, 10.94339842\n",
      "10.66574174, 10.93415141, 10.94920653, 10.95011070, 10.95016660\n",
      "10.95204539, 10.95021020, 10.95017097, 10.95017033\n",
      "10.95018107, 10.95017035, 10.95017031\n",
      "10.95017031, 10.95017031\n",
      "10.95017031\n",
      "\\begin{matrix}\n",
      " 5.12182642 &  9.27976291 & 10.52055428 & 10.84204347 & 10.92309389 & 10.94339842 \\\\\n",
      "10.66574174 & 10.93415141 & 10.94920653 & 10.95011070 & 10.95016660 \\\\\n",
      "10.95204539 & 10.95021020 & 10.95017097 & 10.95017033 \\\\\n",
      "10.95018107 & 10.95017035 & 10.95017031 \\\\\n",
      "10.95017031 & 10.95017031 \\\\\n",
      "10.95017031 \\\\\n",
      "\\end{matrix}\n"
     ]
    }
   ],
   "source": [
    "res,Tlist = Romberg(\n",
    "    a=1,\n",
    "    b=3,\n",
    "    epsilon=1e-6,\n",
    "    f=lambda x:np.exp(x)*np.sin(x)\n",
    ")\n",
    "print(f'result = {res}\\nTlist:\\n')\n",
    "for Tslice in Tlist:\n",
    "    print(*[f'{T:11.8f}' for T in Tslice],sep=', ')\n",
    "\n",
    "print(r'\\begin{matrix}')\n",
    "for Tslice in Tlist:\n",
    "    print(*[f'{T:11.8f}' for T in Tslice],sep=r' & ',end='')\n",
    "    print(r' \\\\')\n",
    "print(r'\\end{matrix}')"
   ]
  },
  {
   "cell_type": "markdown",
   "metadata": {},
   "source": [
    "#### (3)\n",
    "\n",
    "$$\n",
    "\\int_0^1 \\frac{4}{1+x^2} dx,~~\\epsilon=10^{-6}\n",
    "$$"
   ]
  },
  {
   "cell_type": "code",
   "execution_count": 5,
   "metadata": {},
   "outputs": [
    {
     "name": "stdout",
     "output_type": "stream",
     "text": [
      "result = 3.141592653638244\n",
      "Tlist:\n",
      "\n",
      " 3.00000000,  3.10000000,  3.13117647,  3.13898849,  3.14094161,  3.14142989\n",
      " 3.13333333,  3.14156863,  3.14159250,  3.14159265,  3.14159265\n",
      " 3.14211765,  3.14159409,  3.14159266,  3.14159265\n",
      " 3.14158578,  3.14159264,  3.14159265\n",
      " 3.14159267,  3.14159265\n",
      " 3.14159265\n",
      "\\begin{matrix}\n",
      " 3.00000000 &  3.10000000 &  3.13117647 &  3.13898849 &  3.14094161 &  3.14142989 \\\\\n",
      " 3.13333333 &  3.14156863 &  3.14159250 &  3.14159265 &  3.14159265 \\\\\n",
      " 3.14211765 &  3.14159409 &  3.14159266 &  3.14159265 \\\\\n",
      " 3.14158578 &  3.14159264 &  3.14159265 \\\\\n",
      " 3.14159267 &  3.14159265 \\\\\n",
      " 3.14159265 \\\\\n",
      "\\end{matrix}\n"
     ]
    }
   ],
   "source": [
    "res,Tlist = Romberg(\n",
    "    a=0,\n",
    "    b=1,\n",
    "    epsilon=1e-6,\n",
    "    f=lambda x:4/(1+x**2)\n",
    ")\n",
    "print(f'result = {res}\\nTlist:\\n')\n",
    "for Tslice in Tlist:\n",
    "    print(*[f'{T:11.8f}' for T in Tslice],sep=', ')\n",
    "print(r'\\begin{matrix}')\n",
    "for Tslice in Tlist:\n",
    "    print(*[f'{T:11.8f}' for T in Tslice],sep=r' & ',end='')\n",
    "    print(r' \\\\')\n",
    "print(r'\\end{matrix}')"
   ]
  },
  {
   "cell_type": "markdown",
   "metadata": {},
   "source": [
    "#### (4)\n",
    "\n",
    "$$\n",
    "\\int_0^1 \\frac{1}{x+1} dx,~~\\epsilon=10^{-6}\n",
    "$$"
   ]
  },
  {
   "cell_type": "code",
   "execution_count": 6,
   "metadata": {},
   "outputs": [
    {
     "name": "stdout",
     "output_type": "stream",
     "text": [
      "result = 0.6931471819167452\n",
      "Tlist:\n",
      "\n",
      " 0.75000000,  0.70833333,  0.69702381,  0.69412185,  0.69339120\n",
      " 0.69444444,  0.69325397,  0.69315453,  0.69314765\n",
      " 0.69317460,  0.69314790,  0.69314719\n",
      " 0.69314748,  0.69314718\n",
      " 0.69314718\n",
      "\\begin{matrix}\n",
      " 0.75000000 &  0.70833333 &  0.69702381 &  0.69412185 &  0.69339120 \\\\\n",
      " 0.69444444 &  0.69325397 &  0.69315453 &  0.69314765 \\\\\n",
      " 0.69317460 &  0.69314790 &  0.69314719 \\\\\n",
      " 0.69314748 &  0.69314718 \\\\\n",
      " 0.69314718 \\\\\n",
      "\\end{matrix}\n"
     ]
    }
   ],
   "source": [
    "res,Tlist = Romberg(\n",
    "    a=0,\n",
    "    b=1,\n",
    "    epsilon=1e-6,\n",
    "    f=lambda x:1/(x+1)\n",
    ")\n",
    "print(f'result = {res}\\nTlist:\\n')\n",
    "for Tslice in Tlist:\n",
    "    print(*[f'{T:11.8f}' for T in Tslice],sep=', ')\n",
    "print(r'\\begin{matrix}')\n",
    "for Tslice in Tlist:\n",
    "    print(*[f'{T:11.8f}' for T in Tslice],sep=r' & ',end='')\n",
    "    print(r' \\\\')\n",
    "print(r'\\end{matrix}')"
   ]
  }
 ],
 "metadata": {
  "interpreter": {
   "hash": "7f865c9277ec3f40dda2032f009c5a4a64ed5b0e5096a575f7c0dffa2fafe7a4"
  },
  "kernelspec": {
   "display_name": "Python 3.9.7 ('calc')",
   "language": "python",
   "name": "python3"
  },
  "language_info": {
   "codemirror_mode": {
    "name": "ipython",
    "version": 3
   },
   "file_extension": ".py",
   "mimetype": "text/x-python",
   "name": "python",
   "nbconvert_exporter": "python",
   "pygments_lexer": "ipython3",
   "version": "3.9.7"
  },
  "orig_nbformat": 4
 },
 "nbformat": 4,
 "nbformat_minor": 2
}
