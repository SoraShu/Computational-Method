{
 "cells": [
  {
   "cell_type": "markdown",
   "metadata": {},
   "source": [
    "# 牛顿(Newton)迭代法"
   ]
  },
  {
   "cell_type": "code",
   "execution_count": 1,
   "metadata": {},
   "outputs": [],
   "source": [
    "# 引入必要的库\n",
    "import math\n",
    "import sympy\n",
    "import pandas\n",
    "from typing import Optional, Callable, Iterator\n",
    "from sympy.core.symbol import Symbol\n",
    "from sympy.core.add import Add\n",
    "ufunc = Callable[[float], float]\n"
   ]
  },
  {
   "cell_type": "code",
   "execution_count": 2,
   "metadata": {},
   "outputs": [],
   "source": [
    "# 迭代式函数\n",
    "def Iterated_function(\n",
    "        f_in: Add,\n",
    "        x: Symbol\n",
    ") -> tuple:\n",
    "    df_in = sympy.diff(f_in, x)\n",
    "    return (sympy.lambdify(x, f_in, 'math'),\n",
    "            sympy.lambdify(x, df_in, 'math'),\n",
    "            sympy.lambdify(x, x-f_in/df_in, 'math'))\n"
   ]
  },
  {
   "cell_type": "code",
   "execution_count": 3,
   "metadata": {},
   "outputs": [],
   "source": [
    "# 牛顿迭代法生成器\n",
    "def Newtons_generator(\n",
    "        fset: tuple[ufunc, ufunc, ufunc],\n",
    "        x: Symbol\n",
    ") -> Iterator:\n",
    "    f, df, iterf = fset\n",
    "    k = 0\n",
    "    yield (k, x, abs(f(x)), abs(df(x)), math.nan)\n",
    "    while True:\n",
    "        xp = x\n",
    "        x = iterf(x)\n",
    "        k += 1\n",
    "        yield (k, x, abs(f(x)), abs(df(x)), abs(x-xp))\n"
   ]
  },
  {
   "cell_type": "code",
   "execution_count": 10,
   "metadata": {},
   "outputs": [],
   "source": [
    "# 牛顿迭代法过程\n",
    "def Newton_method(\n",
    "        f_in,\n",
    "        epsilon_1: float,\n",
    "        epsilon_2: float,\n",
    "        N: int, x_0: float\n",
    ") -> tuple[Optional[float], pandas.DataFrame]:\n",
    "    x = sympy.symbols(\"x\")\n",
    "    table = pandas.DataFrame(columns=['k', 'x', 'F', 'DF', 'Tol'])\n",
    "    fset = Iterated_function(f_in, x)\n",
    "    niterator = Newtons_generator(fset, x_0)\n",
    "    for k, x, F, DF, Tol in niterator:\n",
    "        table.loc[k] = [k, x, F, DF, Tol]\n",
    "        if(F < epsilon_1 or Tol < epsilon_1):\n",
    "            return (x, table)\n",
    "        if(DF < epsilon_2 or k >= N):\n",
    "            return (None, table)\n"
   ]
  },
  {
   "cell_type": "markdown",
   "metadata": {},
   "source": [
    "## 问题求解"
   ]
  },
  {
   "cell_type": "code",
   "execution_count": 5,
   "metadata": {},
   "outputs": [],
   "source": [
    "def question(\n",
    "        f_in: sympy.core.Add,\n",
    "        epsilon_1: float,\n",
    "        epsilon_2: float,\n",
    "        N: int,\n",
    "        x_0: float) -> tuple[Optional[float], pandas.DataFrame]:\n",
    "    x = sympy.symbols(\"x\")\n",
    "    f_in = sympy.cos(x)-x\n",
    "    res, table = Newton_method(f_in, epsilon_1, epsilon_2, N, x_0)\n",
    "    table['k'] = table['k'].astype(int)\n",
    "    # table=table.set_index('k')\n",
    "    if(res != None):\n",
    "        print(f'result = {res:.8f}\\ntable:\\n')\n",
    "        print(table.to_string(index=False))\n",
    "    else:\n",
    "        print('failed')\n",
    "        print(table.to_string(index=False))\n",
    "    return (res, table)\n"
   ]
  },
  {
   "cell_type": "markdown",
   "metadata": {},
   "source": [
    "### 问题 1"
   ]
  },
  {
   "cell_type": "markdown",
   "metadata": {},
   "source": [
    "\n",
    "#### (1)\n",
    "$$\n",
    "\\cos x-x=0, \\epsilon_1=10^{-6}, \\epsilon_2=10^{-4}, N=10, x_0=\\frac{\\pi}{4}\n",
    "$$"
   ]
  },
  {
   "cell_type": "code",
   "execution_count": 6,
   "metadata": {},
   "outputs": [
    {
     "name": "stdout",
     "output_type": "stream",
     "text": [
      "result = 0.73908518\n",
      "table:\n",
      "\n",
      " k        x            F       DF      Tol\n",
      " 0 0.785398 7.829138e-02 1.707107      NaN\n",
      " 1 0.739536 7.548747e-04 1.673945 0.045862\n",
      " 2 0.739085 7.512987e-08 1.673612 0.000451\n"
     ]
    }
   ],
   "source": [
    "x = sympy.symbols(\"x\")\n",
    "f_in = sympy.cos(x)-x\n",
    "res, table = Newton_method(f_in, 1e-6, 1e-4, 10, math.pi/4.0)\n",
    "table['k'] = table['k'].astype(int)\n",
    "# table=table.set_index('k')\n",
    "if(res != None):\n",
    "    print(f'result = {res:.8f}\\ntable:\\n')\n",
    "    print(table.to_string(index=False))\n",
    "else:\n",
    "    print('failed')\n",
    "    print(table.to_string(index=False))\n"
   ]
  },
  {
   "cell_type": "markdown",
   "metadata": {},
   "source": [
    "#### (2)\n",
    "$$\n",
    "e^{-x}-\\sin x=0, \\epsilon_1=10^{-6}, \\epsilon_2=10^{-4}, N=10, x_0=0.6\n",
    "$$"
   ]
  },
  {
   "cell_type": "code",
   "execution_count": 7,
   "metadata": {},
   "outputs": [
    {
     "name": "stdout",
     "output_type": "stream",
     "text": [
      "result = 0.58853274\n",
      "table:\n",
      "\n",
      " k        x            F       DF      Tol\n",
      " 0 0.600000 1.583084e-02 1.374147      NaN\n",
      " 1 0.588480 7.381916e-05 1.386956 0.011520\n",
      " 2 0.588533 1.572578e-09 1.386897 0.000053\n"
     ]
    }
   ],
   "source": [
    "x = sympy.symbols(\"x\")\n",
    "f_in = sympy.exp(-x)-sympy.sin(x)\n",
    "res, table = Newton_method(f_in, 1e-6, 1e-4, 10, 0.6)\n",
    "table['k'] = table['k'].astype(int)\n",
    "# table=table.set_index('k')\n",
    "if(res != None):\n",
    "    print(f'result = {res:.8f}\\ntable:\\n')\n",
    "    print(table.to_string(index=False))\n",
    "else:\n",
    "    print('failed')\n",
    "    print(table.to_string(index=False))\n"
   ]
  },
  {
   "cell_type": "markdown",
   "metadata": {},
   "source": [
    "### 问题 2\n",
    "\n",
    "#### (1)\n",
    "$$\n",
    "x-e^{-x}=0, \\epsilon_1=10^{-6}, \\epsilon_2=10^{-4}, N=10, x_0=0.5\n",
    "$$"
   ]
  },
  {
   "cell_type": "code",
   "execution_count": 8,
   "metadata": {},
   "outputs": [
    {
     "name": "stdout",
     "output_type": "stream",
     "text": [
      "result = 0.56714317\n",
      "table:\n",
      "\n",
      " k        x            F       DF      Tol\n",
      " 0 0.500000 1.065307e-01 1.606531      NaN\n",
      " 1 0.566311 1.304510e-03 1.567616 0.066311\n",
      " 2 0.567143 1.964805e-07 1.567143 0.000832\n"
     ]
    }
   ],
   "source": [
    "x = sympy.symbols(\"x\")\n",
    "f_in = x-sympy.exp(-x)\n",
    "res, table = Newton_method(f_in, 1e-6, 1e-4, 10, 0.5)\n",
    "table['k'] = table['k'].astype(int)\n",
    "# table=table.set_index('k')\n",
    "if(res != None):\n",
    "    print(f'result = {res:.8f}\\ntable:\\n')\n",
    "    print(table.to_string(index=False))\n",
    "else:\n",
    "    print('failed')\n",
    "    print(table.to_string(index=False))\n"
   ]
  },
  {
   "cell_type": "markdown",
   "metadata": {},
   "source": [
    "#### (2)\n",
    "$$\n",
    "x^2-2xe^{-x}+e^{-2x}=0, \\epsilon_1=10^{-6}, \\epsilon_2=10^{-4}, N=10, x_0=0.5\n",
    "$$"
   ]
  },
  {
   "cell_type": "code",
   "execution_count": 9,
   "metadata": {},
   "outputs": [
    {
     "name": "stdout",
     "output_type": "stream",
     "text": [
      "result = 0.56660570\n",
      "table:\n",
      "\n",
      " k        x            F       DF      Tol\n",
      " 0 0.500000 1.134878e-02 0.342290      NaN\n",
      " 1 0.533156 2.872430e-03 0.170084 0.033156\n",
      " 2 0.550044 7.225737e-04 0.084778 0.016888\n",
      " 3 0.558567 1.812056e-04 0.042323 0.008523\n",
      " 4 0.562848 4.537189e-05 0.021145 0.004281\n",
      " 5 0.564994 1.135180e-05 0.010568 0.002146\n",
      " 6 0.566068 2.839055e-06 0.005283 0.001074\n",
      " 7 0.566606 7.099018e-07 0.002641 0.000537\n"
     ]
    }
   ],
   "source": [
    "x = sympy.symbols(\"x\")\n",
    "f_in = x**2-2*x*sympy.exp(-x)+sympy.exp(-2*x)\n",
    "res, table = Newton_method(f_in, 1e-6, 1e-4, 10, 0.5)\n",
    "table['k'] = table['k'].astype(int)\n",
    "# table=table.set_index('k')\n",
    "if(res != None):\n",
    "    print(f'result = {res:.8f}\\ntable:\\n')\n",
    "    print(table.to_string(index=False))\n",
    "else:\n",
    "    print('failed')\n",
    "    print(table.to_string(index=False))\n"
   ]
  }
 ],
 "metadata": {
  "interpreter": {
   "hash": "7f865c9277ec3f40dda2032f009c5a4a64ed5b0e5096a575f7c0dffa2fafe7a4"
  },
  "kernelspec": {
   "display_name": "Python 3.9.7 ('calc')",
   "language": "python",
   "name": "python3"
  },
  "language_info": {
   "codemirror_mode": {
    "name": "ipython",
    "version": 3
   },
   "file_extension": ".py",
   "mimetype": "text/x-python",
   "name": "python",
   "nbconvert_exporter": "python",
   "pygments_lexer": "ipython3",
   "version": "3.9.7"
  },
  "orig_nbformat": 4
 },
 "nbformat": 4,
 "nbformat_minor": 2
}
